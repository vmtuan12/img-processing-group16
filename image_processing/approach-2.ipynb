{
 "cells": [
  {
   "cell_type": "code",
   "execution_count": 2,
   "metadata": {},
   "outputs": [],
   "source": [
    "import numpy as np\n",
    "import cv2\n",
    "import matplotlib.pyplot as plt\n",
    "from numpy.fft import fft2, ifft2\n",
    "from scipy.signal import wiener\n",
    "import os\n",
    "import scipy"
   ]
  },
  {
   "cell_type": "code",
   "execution_count": 3,
   "metadata": {},
   "outputs": [],
   "source": [
    "def load_image(image_path):\n",
    "    return cv2.imread(image_path)\n",
    "\n",
    "def display_image(image, title=\"Image\"):\n",
    "    plt.imshow(cv2.cvtColor(image, cv2.COLOR_BGR2RGB))\n",
    "    plt.title(title)\n",
    "    plt.axis(False)\n",
    "    plt.show()\n",
    "\n",
    "def adjust_brightness_contrast(image, alpha, beta):\n",
    "    return cv2.addWeighted(image, alpha, image, 0, beta)"
   ]
  },
  {
   "cell_type": "code",
   "execution_count": 63,
   "metadata": {},
   "outputs": [
    {
     "data": {
      "image/png": "[encoded data removed]",
      "text/plain": [
       "<Figure size 640x480 with 1 Axes>"
      ]
     },
     "metadata": {},
     "output_type": "display_data"
    }
   ],
   "source": [
    "img_path = '/home/mhtuan/university/hk2_3/xla/wb_recognition_dataset/train/489/nlvnpf-0174-03-003_crop_6.jpg'\n",
    "blurred_img = load_image(img_path)\n",
    "blurred_img = cv2.cvtColor(blurred_img,cv2.COLOR_BGR2GRAY)\n",
    "display_image(blurred_img)"
   ]
  },
  {
   "cell_type": "code",
   "execution_count": 64,
   "metadata": {},
   "outputs": [
    {
     "data": {
      "image/png": "[encoded data removed]",
      "text/plain": [
       "<Figure size 640x480 with 1 Axes>"
      ]
     },
     "metadata": {},
     "output_type": "display_data"
    }
   ],
   "source": [
    "def read_this(image_file, gray_scale=False):\n",
    "    image_src = cv2.imread(image_file)\n",
    "    if gray_scale:\n",
    "        image_src = cv2.cvtColor(image_src, cv2.COLOR_BGR2GRAY)\n",
    "    else:\n",
    "        image_src = cv2.cvtColor(image_src, cv2.COLOR_BGR2RGB)\n",
    "    return image_src\n",
    "\n",
    "def enhance_adapt(image, block_size=19, constant=17, method=cv2.ADAPTIVE_THRESH_GAUSSIAN_C):\n",
    "    gray = image\n",
    "    if len(image.shape) == 3:\n",
    "        gray = cv2.cvtColor(image, cv2.COLOR_BGR2GRAY)\n",
    "\n",
    "    th = cv2.adaptiveThreshold(gray, 255, method, cv2.THRESH_BINARY, block_size, constant)\n",
    "    return th\n",
    "\n",
    "def equalize_this(image_file, with_plot=False, gray_scale=False):\n",
    "    image_src = read_this(image_file=image_file, gray_scale=gray_scale)\n",
    "    if not gray_scale:\n",
    "        r_image, g_image, b_image = cv2.split(image_src)\n",
    "\n",
    "        r_image_eq = cv2.equalizeHist(r_image)\n",
    "        g_image_eq = cv2.equalizeHist(g_image)\n",
    "        b_image_eq = cv2.equalizeHist(b_image)\n",
    "\n",
    "        image_eq = cv2.merge((r_image_eq, g_image_eq, b_image_eq))\n",
    "        cmap_val = None\n",
    "    else:\n",
    "        image_eq = cv2.equalizeHist(image_src)\n",
    "        cmap_val = 'gray'\n",
    "\n",
    "    if with_plot:\n",
    "        fig = plt.figure(figsize=(10, 20))\n",
    "\n",
    "        ax1 = fig.add_subplot(2, 2, 1)\n",
    "        ax1.axis(\"off\")\n",
    "        ax1.title.set_text('Original')\n",
    "        ax2 = fig.add_subplot(2, 2, 2)\n",
    "        ax2.axis(\"off\")\n",
    "        ax2.title.set_text(\"Equalized\")\n",
    "\n",
    "        ax1.imshow(image_src, cmap=cmap_val)\n",
    "        ax2.imshow(image_eq, cmap=cmap_val)\n",
    "        return True\n",
    "    return image_eq\n",
    "\n",
    "finale = equalize_this(image_file=img_path, with_plot=False)\n",
    "# enhanced1 = enhance_adapt(finale, 71, 22, cv2.ADAPTIVE_THRESH_GAUSSIAN_C)\n",
    "# print(finale)\n",
    "display_image(finale)"
   ]
  },
  {
   "cell_type": "code",
   "execution_count": 74,
   "metadata": {},
   "outputs": [
    {
     "data": {
      "image/png": "[encoded data removed]",
      "text/plain": [
       "<Figure size 640x480 with 1 Axes>"
      ]
     },
     "metadata": {},
     "output_type": "display_data"
    },
    {
     "data": {
      "image/png": "[encoded data removed]",
      "text/plain": [
       "<Figure size 640x480 with 1 Axes>"
      ]
     },
     "metadata": {},
     "output_type": "display_data"
    }
   ],
   "source": [
    "alpha = 1.5 # Contrast control (1.0-3.0)\n",
    "beta = 0 # Brightness control (0-100)\n",
    "\n",
    "manual_result = cv2.convertScaleAbs(blurred_img, alpha=alpha, beta=beta)\n",
    "display_image(manual_result)\n",
    "enhanced1 = enhance_adapt(manual_result, 71, 22, cv2.ADAPTIVE_THRESH_GAUSSIAN_C)\n",
    "display_image(enhanced1)"
   ]
  }
 ],
 "metadata": {
  "kernelspec": {
   "display_name": "myenv",
   "language": "python",
   "name": "python3"
  },
  "language_info": {
   "codemirror_mode": {
    "name": "ipython",
    "version": 3
   },
   "file_extension": ".py",
   "mimetype": "text/x-python",
   "name": "python",
   "nbconvert_exporter": "python",
   "pygments_lexer": "ipython3",
   "version": "3.11.6"
  }
 },
 "nbformat": 4,
 "nbformat_minor": 2
}
