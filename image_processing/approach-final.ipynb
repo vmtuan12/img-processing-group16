{
  "cells": [
    {
      "cell_type": "code",
      "execution_count": 1,
      "metadata": {
        "colab": {
          "base_uri": "https://localhost:8080/"
        },
        "id": "W0YaVk_I_DKJ",
        "outputId": "99103f13-6f69-467c-ecc5-344793773f1b"
      },
      "outputs": [
        {
          "name": "stdout",
          "output_type": "stream",
          "text": [
            "Requirement already satisfied: scikit-image in /home/mhtuan/anaconda3/envs/myenv/lib/python3.11/site-packages (0.22.0)\n",
            "Requirement already satisfied: numpy>=1.22 in /home/mhtuan/anaconda3/envs/myenv/lib/python3.11/site-packages (from scikit-image) (1.26.4)\n",
            "Requirement already satisfied: scipy>=1.8 in /home/mhtuan/anaconda3/envs/myenv/lib/python3.11/site-packages (from scikit-image) (1.13.0)\n",
            "Requirement already satisfied: networkx>=2.8 in /home/mhtuan/anaconda3/envs/myenv/lib/python3.11/site-packages (from scikit-image) (3.1)\n",
            "Requirement already satisfied: pillow>=9.0.1 in /home/mhtuan/anaconda3/envs/myenv/lib/python3.11/site-packages (from scikit-image) (10.0.0)\n",
            "Requirement already satisfied: imageio>=2.27 in /home/mhtuan/anaconda3/envs/myenv/lib/python3.11/site-packages (from scikit-image) (2.33.1)\n",
            "Requirement already satisfied: tifffile>=2022.8.12 in /home/mhtuan/anaconda3/envs/myenv/lib/python3.11/site-packages (from scikit-image) (2023.4.12)\n",
            "Requirement already satisfied: packaging>=21 in /home/mhtuan/anaconda3/envs/myenv/lib/python3.11/site-packages (from scikit-image) (24.0)\n",
            "Requirement already satisfied: lazy_loader>=0.3 in /home/mhtuan/anaconda3/envs/myenv/lib/python3.11/site-packages (from scikit-image) (0.3)\n"
          ]
        }
      ],
      "source": [
        "!pip install scikit-image"
      ]
    },
    {
      "cell_type": "code",
      "execution_count": 2,
      "metadata": {
        "id": "ENdl1obc6IeE"
      },
      "outputs": [],
      "source": [
        "import os\n",
        "import cv2\n",
        "import matplotlib.pyplot as plt\n",
        "import numpy as np\n",
        "import time\n"
      ]
    },
    {
      "cell_type": "markdown",
      "metadata": {
        "id": "sC_8qfhi5Vtx"
      },
      "source": [
        "## Download dataset"
      ]
    },
    {
      "cell_type": "code",
      "execution_count": 3,
      "metadata": {
        "colab": {
          "base_uri": "https://localhost:8080/"
        },
        "id": "kkPaMOPp5TJ9",
        "outputId": "970afc4d-f644-46c7-b744-5fd769ba191d"
      },
      "outputs": [
        {
          "name": "stdout",
          "output_type": "stream",
          "text": [
            "/home/mhtuan/anaconda3/envs/myenv/lib/python3.11/site-packages/gdown/__main__.py:132: FutureWarning: Option `--id` was deprecated in version 4.3.1 and will be removed in 5.0. You don't need to pass it anymore to use a file ID.\n",
            "  warnings.warn(\n",
            "Downloading...\n",
            "From (original): https://drive.google.com/uc?id=1PdWkZe8Vt6xdsTj8KeqxhAd5Tmx4pyNh\n",
            "From (redirected): https://drive.google.com/uc?id=1PdWkZe8Vt6xdsTj8KeqxhAd5Tmx4pyNh&confirm=t&uuid=d058af5a-d7cd-4066-ab99-d9f22b323c31\n",
            "To: /home/mhtuan/university/hk2_3/xla/img_process/wb_recognition_dataset.zip\n",
            "100%|████████████████████████████████████████| 105M/105M [00:11<00:00, 9.27MB/s]\n"
          ]
        }
      ],
      "source": [
        "!gdown --id 1PdWkZe8Vt6xdsTj8KeqxhAd5Tmx4pyNh"
      ]
    },
    {
      "cell_type": "markdown",
      "metadata": {
        "id": "LMzT6geU5cHO"
      },
      "source": [
        "## Unzip data"
      ]
    },
    {
      "cell_type": "code",
      "execution_count": 4,
      "metadata": {
        "id": "Bgb7eLFV5bkd"
      },
      "outputs": [],
      "source": [
        "!unzip /content/wb_recognition_dataset.zip &> /dev/null"
      ]
    },
    {
      "cell_type": "code",
      "execution_count": 5,
      "metadata": {
        "colab": {
          "base_uri": "https://localhost:8080/"
        },
        "id": "HvHFzXdT6UfS",
        "outputId": "df12612f-3724-4a54-a9b4-2a0ae474dd9d"
      },
      "outputs": [
        {
          "name": "stdout",
          "output_type": "stream",
          "text": [
            "total 196416\n",
            "drwxrwxr-x    5 mhtuan mhtuan      4096 Thg 5  19 14:47  .\n",
            "drwxrwxr-x    6 mhtuan mhtuan      4096 Thg 5  19 11:11  ..\n",
            "-rw-rw-r--    1 mhtuan mhtuan  48087995 Thg 4  28 14:33  adap_thresh.zip\n",
            "-rw-rw-r--    1 mhtuan mhtuan     12408 Thg 4  28 12:31  compare.png\n",
            "-rw-rw-r--    1 mhtuan mhtuan      1651 Thg 4  28 11:26  e1.png\n",
            "-rw-rw-r--    1 mhtuan mhtuan      1663 Thg 4  28 11:26  e2.png\n",
            "-rw-rw-r--    1 mhtuan mhtuan      1616 Thg 4  28 11:26  e3.png\n",
            "-rw-rw-r--    1 mhtuan mhtuan      1778 Thg 4  21 19:10  fill.jpg\n",
            "-rw-rw-r--    1 mhtuan mhtuan    204059 Thg 4  25 09:22 'HCCR_CNV (1).ipynb'\n",
            "-rw-rw-r--    1 mhtuan mhtuan   1122264 Thg 4  22 01:18  img_label.csv\n",
            "-rw-rw-r--    1 mhtuan mhtuan      2411 Thg 4  21 11:36  improved_image.jpg\n",
            "-rw-rw-r--    1 mhtuan mhtuan     23890 Thg 5  19 14:47  linh.ipynb\n",
            "-rw-rw-r--    1 mhtuan mhtuan      3893 Thg 4  22 01:24  output.png\n",
            "drwxrwxr-x 2132 mhtuan mhtuan     53248 Thg 4  28 14:29  processed_img\n",
            "drwxrwxr-x 2132 mhtuan mhtuan     53248 Thg 4  28 15:04  processed_img_adap\n",
            "-rw-rw-r--    1 mhtuan mhtuan    110056 Thg 4  22 00:50  process_low_quality_img.ipynb\n",
            "-rw-rw-r--    1 mhtuan mhtuan      2487 Thg 4  21 11:46  remove_dot.jpg\n",
            "-rw-rw-r--    1 mhtuan mhtuan  46540163 Thg 4  28 14:33  simple_thresh.zip\n",
            "-rw-rw-r--    1 mhtuan mhtuan     38531 Thg 4  28 15:04  test2.ipynb\n",
            "-rw-rw-r--    1 mhtuan mhtuan     27890 Thg 5   9 19:34  test3.ipynb\n",
            "-rw-rw-r--    1 mhtuan mhtuan       556 Thg 4  25 23:36  test_gemini.png\n",
            "-rw-rw-r--    1 mhtuan mhtuan     77454 Thg 4  28 12:00  test.ipynb\n",
            "drwxrwxrwx    4 mhtuan mhtuan      4096 Thg 4  25 07:53  wb_recognition_dataset\n",
            "-rw-rw-r--    1 mhtuan mhtuan 104712481 Thg 5  19 14:47  wb_recognition_dataset.zip\n",
            "/home/mhtuan/university/hk2_3/xla/img_process\n"
          ]
        }
      ],
      "source": [
        "!ls -la\n",
        "!pwd"
      ]
    },
    {
      "cell_type": "code",
      "execution_count": 6,
      "metadata": {
        "id": "W1rlIe365mlX"
      },
      "outputs": [],
      "source": [
        "cnv_local_dir = 'wb_recognition_dataset'\n",
        "colab_dir = '/content/wb_recognition_dataset'\n",
        "dataset_dir = cnv_local_dir\n",
        "train_dataset_dir = dataset_dir + '/train'\n",
        "val_dataset_dir = dataset_dir + '/val'\n",
        "val_dataset_img_dir = val_dataset_dir + '/images'\n",
        "annotations_file_dir = val_dataset_dir + '/labels.csv'"
      ]
    },
    {
      "cell_type": "markdown",
      "metadata": {
        "id": "DQMtToNk7Ri1"
      },
      "source": [
        "## Tests"
      ]
    },
    {
      "cell_type": "code",
      "execution_count": 7,
      "metadata": {
        "id": "zNHLAD3A7TJs"
      },
      "outputs": [],
      "source": [
        "images = []\n",
        "example_dir = train_dataset_dir + \"/16\"\n",
        "for filename in os.listdir(example_dir):\n",
        "    img = cv2.imread(os.path.join(example_dir,filename))\n",
        "    if img is not None:\n",
        "        images.append(img)"
      ]
    },
    {
      "cell_type": "code",
      "execution_count": 8,
      "metadata": {
        "id": "1pJZIpNo7nSx"
      },
      "outputs": [],
      "source": [
        "def display_image(images, titles=None):\n",
        "  if titles is None:\n",
        "    titles = [None] * len(images)\n",
        "\n",
        "  images = images[:4]\n",
        "  titles = titles[:4]\n",
        "\n",
        "  fig, axes = plt.subplots(1, len(images))  # Adjust figsize as needed\n",
        "\n",
        "  for i, (image, title) in enumerate(zip(images, titles)):\n",
        "    axes[i].imshow(cv2.cvtColor(image, cv2.COLOR_BGR2RGB))\n",
        "    axes[i].set_title(title)\n",
        "    axes[i].axis('off')\n",
        "\n",
        "  plt.tight_layout()\n",
        "  plt.show()\n",
        "\n",
        "def enhance_adapt(image, block_size=19, constant=17, method=cv2.ADAPTIVE_THRESH_GAUSSIAN_C):\n",
        "  gray = cv2.cvtColor(image, cv2.COLOR_BGR2GRAY)\n",
        "  th = cv2.adaptiveThreshold(gray, 255, method, cv2.THRESH_BINARY, block_size, constant)\n",
        "  return th\n",
        "\n",
        "def enhance_otsu(img):\n",
        "  gray = cv2.cvtColor(img, cv2.COLOR_BGR2GRAY)\n",
        "  ret, th = cv2.threshold(gray, 0, 255, cv2.THRESH_BINARY + cv2.THRESH_OTSU)\n",
        "  return th"
      ]
    },
    {
      "cell_type": "code",
      "execution_count": 13,
      "metadata": {
        "colab": {
          "base_uri": "https://localhost:8080/",
          "height": 374
        },
        "id": "icNsOFyUHYcW",
        "outputId": "a99861a4-d05c-4e6f-b964-d711f848c32b"
      },
      "outputs": [
        {
          "name": "stdout",
          "output_type": "stream",
          "text": [
            "0.0003523826599121094\n",
            "0.0001354217529296875\n"
          ]
        },
        {
          "data": {
            "image/png": "[encoded data removed]",
            "text/plain": [
              "<Figure size 640x480 with 2 Axes>"
            ]
          },
          "metadata": {},
          "output_type": "display_data"
        }
      ],
      "source": [
        "example_img = cv2.imread('/home/mhtuan/university/hk2_3/xla/img_process/wb_recognition_dataset/train/3/19_3.png')\n",
        "start = time.time()\n",
        "enhanced1 = enhance_adapt(example_img, 71, 22, cv2.ADAPTIVE_THRESH_GAUSSIAN_C)\n",
        "end = time.time()\n",
        "print(end - start)\n",
        "start = time.time()\n",
        "enhanced2 = enhance_adapt(example_img, 31, 19, cv2.ADAPTIVE_THRESH_MEAN_C)\n",
        "end = time.time()\n",
        "print(end - start)\n",
        "display_image([example_img, enhanced1], titles=[\"Original high-quality image\", \"Processed image\"])\n"
      ]
    },
    {
      "cell_type": "code",
      "execution_count": 14,
      "metadata": {},
      "outputs": [
        {
          "name": "stdout",
          "output_type": "stream",
          "text": [
            "0.00022673606872558594\n",
            "0.00010800361633300781\n",
            "5.340576171875e-05\n"
          ]
        },
        {
          "data": {
            "image/png": "[encoded data removed]",
            "text/plain": [
              "<Figure size 640x480 with 2 Axes>"
            ]
          },
          "metadata": {},
          "output_type": "display_data"
        }
      ],
      "source": [
        "example_img = cv2.imread('/home/mhtuan/university/hk2_3/xla/img_process/wb_recognition_dataset/train/3/nlvnpf-0140-01-009_crop_100.jpg')\n",
        "start = time.time()\n",
        "enhanced1 = enhance_adapt(example_img, 71, 22, cv2.ADAPTIVE_THRESH_GAUSSIAN_C)\n",
        "end = time.time()\n",
        "print(end - start)\n",
        "start = time.time()\n",
        "enhanced2 = enhance_adapt(example_img, 31, 19, cv2.ADAPTIVE_THRESH_MEAN_C)\n",
        "end = time.time()\n",
        "print(end - start)\n",
        "start = time.time()\n",
        "enhanced3 = enhance_otsu(example_img)\n",
        "end = time.time()\n",
        "print(end - start)\n",
        "display_image([example_img, enhanced1], titles=[\"Original low-quality image\", \"Processed image\"])"
      ]
    },
    {
      "cell_type": "markdown",
      "metadata": {
        "id": "lUhZCiiwMSsl"
      },
      "source": [
        "# Final"
      ]
    }
  ],
  "metadata": {
    "colab": {
      "provenance": []
    },
    "kernelspec": {
      "display_name": "Python 3",
      "name": "python3"
    },
    "language_info": {
      "codemirror_mode": {
        "name": "ipython",
        "version": 3
      },
      "file_extension": ".py",
      "mimetype": "text/x-python",
      "name": "python",
      "nbconvert_exporter": "python",
      "pygments_lexer": "ipython3",
      "version": "3.11.6"
    }
  },
  "nbformat": 4,
  "nbformat_minor": 0
}
